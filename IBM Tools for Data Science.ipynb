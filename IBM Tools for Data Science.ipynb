{
 "cells": [
  {
   "cell_type": "markdown",
   "metadata": {},
   "source": [
    "## Peer-graded Assignment: Submit Your Work and Grade Your Peers"
   ]
  },
  {
   "cell_type": "markdown",
   "metadata": {},
   "source": [
    "This is a submission to the IBM Course on Coursera.org: Tools for Data Science.\n",
    "\n",
    "The submission is meant for a peer-graded assignment, related to the creation of a Jupyter Notebook.\n",
    "\n",
    "This section is Exercise 3 - Create a markdown cell for an introduction."
   ]
  },
  {
   "cell_type": "markdown",
   "metadata": {},
   "source": [
    "This section is Exercise 4 - list of data science languages\n",
    "1. Python\n",
    "2. R\n",
    "3. Structured Query Language (SQL)"
   ]
  },
  {
   "cell_type": "markdown",
   "metadata": {},
   "source": [
    "This section is Exercise 5 - list of data science libraries\n",
    "1. scipy\n",
    "2. numpy\n",
    "3. scikit-learn"
   ]
  },
  {
   "cell_type": "markdown",
   "metadata": {},
   "source": [
    "This section is Exercise 6 - table of Data Science Tools\n",
    "\n",
    "| Data Science Tool | Vendor |\n",
    "| ----------------- | :-: |\n",
    "| IBM SPSS Modeler  | IBM |\n",
    "| SPSS Statistics   | IBM |\n",
    "| Auto AI           | IBM |"
   ]
  },
  {
   "cell_type": "markdown",
   "metadata": {},
   "source": [
    "This section is Exercise 7 - arithmetic expression examples\n",
    "\n"
   ]
  },
  {
   "cell_type": "code",
   "execution_count": 4,
   "metadata": {},
   "outputs": [
    {
     "name": "stdout",
     "output_type": "stream",
     "text": [
      "A + B = 5\n",
      "A * B = 6\n"
     ]
    }
   ],
   "source": [
    "#This section is Exercise 8 - code cell to multiply and add numbers\n",
    "\n",
    "num_a = 2\n",
    "num_b = 3\n",
    "\n",
    "print (\"A + B = %i\" % (num_a + num_b))\n",
    "print (\"A * B = %i\" % (num_a * num_b))"
   ]
  },
  {
   "cell_type": "code",
   "execution_count": 9,
   "metadata": {},
   "outputs": [
    {
     "name": "stdout",
     "output_type": "stream",
     "text": [
      "68 minutes to hours is 1:08\n"
     ]
    }
   ],
   "source": [
    "# This section is Exercise 9 - code cell to convert minutes to hours\n",
    "\n",
    "def ConvMinToHour(minutes):\n",
    "    return \"%i:%02i\" % (int(minutes/60), minutes % 60)\n",
    "\n",
    "minute = 68\n",
    "print (\"%i minutes to hours is %s\" % (minute, ConvMinToHour(minute)))"
   ]
  },
  {
   "cell_type": "markdown",
   "metadata": {},
   "source": [
    "This section is Exercise 10 - list Objectives\n",
    "\n",
    "- Data Scientist's Toolkit (Week 1)\n",
    "- Open Source Tools (Week 2)\n",
    "- IBM Tools for Data Science (Week 3)\n",
    "- Final Assignment: Create and Share Jupyter notebook"
   ]
  },
  {
   "cell_type": "markdown",
   "metadata": {
    "editable": false
   },
   "source": [
    "# The author of this notebook is Chan Boon Kwee"
   ]
  },
  {
   "cell_type": "markdown",
   "metadata": {},
   "source": [
    "Exercise 12 - Share through GitHub\n",
    "Exercise 13 - Take screenshot of first page."
   ]
  }
 ],
 "metadata": {
  "kernelspec": {
   "display_name": "Python 3",
   "language": "python",
   "name": "python3"
  },
  "language_info": {
   "codemirror_mode": {
    "name": "ipython",
    "version": 3
   },
   "file_extension": ".py",
   "mimetype": "text/x-python",
   "name": "python",
   "nbconvert_exporter": "python",
   "pygments_lexer": "ipython3",
   "version": "3.7.1"
  }
 },
 "nbformat": 4,
 "nbformat_minor": 2
}
